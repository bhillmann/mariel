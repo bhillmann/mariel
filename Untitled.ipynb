{
 "cells": [
  {
   "cell_type": "code",
   "execution_count": 1,
   "metadata": {
    "collapsed": true
   },
   "outputs": [],
   "source": [
    "from gensim import models"
   ]
  },
  {
   "cell_type": "code",
   "execution_count": 2,
   "metadata": {
    "collapsed": false
   },
   "outputs": [],
   "source": [
    "lda = models.LdaModel.load('C:/Users/Benjamin/Projects/mariel/mariel/cache/midwest.lda')"
   ]
  },
  {
   "cell_type": "code",
   "execution_count": 3,
   "metadata": {
    "collapsed": false
   },
   "outputs": [
    {
     "name": "stdout",
     "output_type": "stream",
     "text": [
      "0.058*great + 0.044*food + 0.034*place + 0.030*service + 0.028*good + 0.022*friendly + 0.017*delicious + 0.016*back + 0.015*nice + 0.015*really\n",
      "0.134*cheese + 0.044*curd + 0.042*chocolate + 0.028*cake + 0.017*wisconsin + 0.017*mustard + 0.012*old + 0.011*fried + 0.011*delicious + 0.010*chipotle\n",
      "0.096*free + 0.043*gluten + 0.030*capitol + 0.029*apple + 0.021*e + 0.015*diet + 0.015*banana + 0.013*g + 0.012*heritage + 0.011*coke\n",
      "0.060*5 + 0.059*star + 0.054*2 + 0.047*3 + 0.044*4 + 0.041*1 + 0.017*price + 0.015*10 + 0.015*6 + 0.014*50\n",
      "0.038*time + 0.031*year + 0.019*first + 0.018*back + 0.017*last + 0.014*ve + 0.013*since + 0.013*went + 0.012*week + 0.012*hair\n",
      "0.142*sushi + 0.117*roll + 0.033*champaign + 0.026*sub + 0.022*tuna + 0.020*fish + 0.014*tempura + 0.013*urbana + 0.011*piece + 0.010*muramoto\n",
      "0.039*nail + 0.035*massage + 0.019*salon + 0.018*pedicure + 0.017*body + 0.017*slider + 0.016*foot + 0.014*job + 0.013*color + 0.013*shoulder\n",
      "0.032*parking + 0.028*seating + 0.022*area + 0.022*outside + 0.021*patio + 0.020*view + 0.019*outdoor + 0.017*inside + 0.016*building + 0.014*lake\n",
      "0.077*wing + 0.033*cart + 0.017*lazy + 0.013*dig + 0.013*rack + 0.013*vintage + 0.012*overwhelmed + 0.012*buffalo + 0.011*semi + 0.010*tipsy\n",
      "0.019*movie + 0.017*show + 0.016*cab + 0.014*union + 0.012*theater + 0.011*seat + 0.010*green + 0.010*truck + 0.009*management + 0.009*ticket\n",
      "0.023*u + 0.020*kid + 0.014*can + 0.014*counter + 0.013*not + 0.013*question + 0.011*asked + 0.010*behind + 0.010*could + 0.010*child\n",
      "0.096*tea + 0.042*book + 0.021*art + 0.019*pro + 0.014*con + 0.013*hidden + 0.011*gem + 0.010*comfy + 0.009*paul + 0.009*read\n",
      "0.012*game + 0.011*people + 0.011*see + 0.011*fun + 0.010*around + 0.010*space + 0.010*old + 0.009*wall + 0.009*college + 0.008*little\n",
      "0.031*local + 0.030*street + 0.028*madison + 0.022*location + 0.021*state + 0.021*side + 0.020*quality + 0.020*priced + 0.018*meat + 0.017*fresh\n",
      "0.185*pizza + 0.037*crust + 0.028*cheese + 0.022*slice + 0.022*topping + 0.020*italian + 0.017*pad + 0.016*thin + 0.015*good + 0.013*chicago\n",
      "0.068*room + 0.028*hotel + 0.020*clean + 0.019*nice + 0.018*stay + 0.016*free + 0.014*staff + 0.014*lamb + 0.011*night + 0.010*bathroom\n",
      "0.035*wedding + 0.028*dress + 0.027*l + 0.024*balance + 0.024*vanilla + 0.016*fly + 0.012*delight + 0.012*combined + 0.012*mole + 0.012*period\n",
      "0.052*vegan + 0.022*garden + 0.019*soy + 0.016*design + 0.015*flower + 0.013*beautiful + 0.013*velvet + 0.013*museum + 0.012*ring + 0.011*na\n",
      "0.065*cupcake + 0.024*00 + 0.019*bubble + 0.014*describe + 0.014*v + 0.010*octopus + 0.010*careful + 0.009*message + 0.009*follow + 0.009*receive\n",
      "0.052*food + 0.028*restaurant + 0.025*good + 0.023*dish + 0.017*place + 0.015*chinese + 0.014*menu + 0.013*noodle + 0.011*thai + 0.011*lunch\n",
      "0.035*like + 0.032*place + 0.023*good + 0.022*really + 0.018*get + 0.017*go + 0.016*m + 0.013*pretty + 0.012*think + 0.011*one\n",
      "0.026*class + 0.016*work + 0.011*staff + 0.011*student + 0.010*professional + 0.009*dr + 0.008*experience + 0.008*vietnamese + 0.008*member + 0.008*recommend\n",
      "0.292*GOODREVIEW + 0.028*food + 0.026*bad + 0.025*service + 0.016*worst + 0.012*cold + 0.012*terrible + 0.012*ever + 0.012*slow + 0.011*poor\n",
      "0.101*wine + 0.040*glass + 0.024*list + 0.022*bottle + 0.018*cocktail + 0.014*selection + 0.012*frites + 0.009*lemon + 0.009*dim + 0.008*chop\n",
      "0.060*taco + 0.048*mexican + 0.042*chip + 0.036*salsa + 0.032*burrito + 0.026*food + 0.018*bean + 0.017*tortilla + 0.017*margarita + 0.016*bagel\n",
      "0.017*car + 0.016*price + 0.015*store + 0.014*great + 0.012*shop + 0.011*friendly + 0.011*new + 0.011*staff + 0.011*need + 0.011*service\n",
      "0.017*ale + 0.010*com + 0.010*long + 0.009*illinois + 0.008*ha + 0.008*sake + 0.007*boot + 0.007*wisconsin + 0.007*central + 0.006*http\n",
      "0.052*breakfast + 0.041*egg + 0.033*brunch + 0.018*pancake + 0.015*potato + 0.015*bacon + 0.014*toast + 0.014*sunday + 0.013*french + 0.012*morning\n",
      "0.021*u + 0.020*food + 0.017*table + 0.016*time + 0.016*minute + 0.014*order + 0.012*came + 0.011*service + 0.011*ordered + 0.011*wait\n",
      "0.155*burger + 0.087*cream + 0.063*ice + 0.046*pie + 0.026*flavor + 0.018*butter + 0.018*topping + 0.018*peanut + 0.016*frozen + 0.014*patty\n",
      "0.120*sandwich + 0.048*salad + 0.038*lunch + 0.024*soup + 0.020*bread + 0.017*menu + 0.015*option + 0.014*love + 0.012*yum + 0.012*delicious\n",
      "0.042*market + 0.031*farmer + 0.027*sun + 0.020*prairie + 0.017*boy + 0.013*regret + 0.013*bus + 0.013*saturday + 0.012*grill + 0.012*jam\n",
      "0.025*sauce + 0.021*chicken + 0.015*fry + 0.013*good + 0.012*pork + 0.012*flavor + 0.012*like + 0.011*meat + 0.011*ordered + 0.010*fried\n",
      "0.023*customer + 0.019*service + 0.019*would + 0.014*told + 0.014*said + 0.013*called + 0.013*time + 0.012*call + 0.010*back + 0.010*business\n",
      "0.037*ve + 0.031*always + 0.027*time + 0.024*get + 0.022*place + 0.021*best + 0.021*one + 0.020*love + 0.017*go + 0.013*great\n",
      "0.017*restaurant + 0.014*menu + 0.013*dish + 0.012*salad + 0.012*meal + 0.012*dinner + 0.011*ordered + 0.011*steak + 0.010*good + 0.009*dessert\n",
      "0.124*coffee + 0.024*shop + 0.023*cafe + 0.022*cup + 0.018*drink + 0.015*crepe + 0.014*gyro + 0.014*good + 0.013*latte + 0.012*work\n",
      "0.044*campus + 0.035*b + 0.034*c + 0.022*walking + 0.016*within + 0.016*apartment + 0.015*distance + 0.014*el + 0.014*pastor + 0.010*u\n",
      "0.053*beer + 0.046*bar + 0.029*great + 0.027*good + 0.026*drink + 0.026*place + 0.019*night + 0.015*food + 0.015*selection + 0.012*burger\n",
      "0.074*store + 0.040*selection + 0.038*item + 0.021*grocery + 0.019*find + 0.015*shop + 0.015*product + 0.014*price + 0.014*section + 0.014*gift\n"
     ]
    }
   ],
   "source": [
    "for topic in lda.show_topics(num_topics=40, num_words=10):\n",
    "    print(topic)"
   ]
  },
  {
   "cell_type": "code",
   "execution_count": 4,
   "metadata": {
    "collapsed": true
   },
   "outputs": [],
   "source": [
    "import pandas as pd"
   ]
  },
  {
   "cell_type": "code",
   "execution_count": 6,
   "metadata": {
    "collapsed": false
   },
   "outputs": [],
   "source": [
    "phi = pd.DataFrame.from_csv(\"./R/phi.csv\")"
   ]
  },
  {
   "cell_type": "code",
   "execution_count": 7,
   "metadata": {
    "collapsed": true
   },
   "outputs": [],
   "source": [
    "theta = pd.DataFrame.from_csv(\"./R/theta.csv\")"
   ]
  },
  {
   "cell_type": "code",
   "execution_count": 12,
   "metadata": {
    "collapsed": false
   },
   "outputs": [
    {
     "data": {
      "text/plain": [
       "V1     0.069767\n",
       "V2     0.139535\n",
       "V3     0.046512\n",
       "V4     0.023256\n",
       "V5     0.023256\n",
       "V6     0.046512\n",
       "V7     0.162791\n",
       "V8     0.046512\n",
       "V9     0.023256\n",
       "V10    0.023256\n",
       "V11    0.023256\n",
       "V12    0.023256\n",
       "V13    0.046512\n",
       "V14    0.023256\n",
       "V15    0.023256\n",
       "V16    0.023256\n",
       "V17    0.023256\n",
       "V18    0.093023\n",
       "V19    0.093023\n",
       "V20    0.023256\n",
       "Name: 1, dtype: float64"
      ]
     },
     "execution_count": 12,
     "metadata": {},
     "output_type": "execute_result"
    }
   ],
   "source": [
    "theta.loc[1]"
   ]
  },
  {
   "cell_type": "code",
   "execution_count": null,
   "metadata": {
    "collapsed": true
   },
   "outputs": [],
   "source": []
  }
 ],
 "metadata": {
  "kernelspec": {
   "display_name": "Python 3",
   "language": "python",
   "name": "python3"
  },
  "language_info": {
   "codemirror_mode": {
    "name": "ipython",
    "version": 3
   },
   "file_extension": ".py",
   "mimetype": "text/x-python",
   "name": "python",
   "nbconvert_exporter": "python",
   "pygments_lexer": "ipython3",
   "version": "3.4.1"
  }
 },
 "nbformat": 4,
 "nbformat_minor": 0
}
